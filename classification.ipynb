{
 "cells": [
  {
   "cell_type": "code",
   "execution_count": 19,
   "metadata": {},
   "outputs": [],
   "source": [
    "import os\n",
    "import csv\n",
    "import cv2\n",
    "import numpy as np\n",
    "from numpy import random\n",
    "import matplotlib.pyplot as plt\n",
    "import seaborn as sns; sns.set()\n",
    "\n",
    "#from PIL import Image\n",
    "#import hashlib\n",
    "from sklearn import metrics\n",
    "from sklearn.metrics import confusion_matrix\n",
    "from sklearn import linear_model\n",
    "from sklearn import ensemble\n",
    "%matplotlib inline "
   ]
  },
  {
   "cell_type": "code",
   "execution_count": 20,
   "metadata": {
    "collapsed": true
   },
   "outputs": [],
   "source": [
    "features = np.loadtxt(\"features.csv\", delimiter = \",\", dtype = np.unicode_)"
   ]
  },
  {
   "cell_type": "code",
   "execution_count": 50,
   "metadata": {},
   "outputs": [
    {
     "name": "stdout",
     "output_type": "stream",
     "text": [
      "1199\n",
      "0.5446205170975813\n",
      "653\n"
     ]
    }
   ],
   "source": [
    "# subset out factors (features), malignancy labels, and rest of data\n",
    "factors = features[0,1:]\n",
    "labels = features[1:,1]\n",
    "data = features[1:, 2:]\n",
    "\n",
    "## MULTICLASS\n",
    "# factors = features[0,1:]\n",
    "# labels = features[1:,1:5]\n",
    "# data = features[1:, 5:]\n",
    "# print(labels[0:5,:])\n",
    "\n",
    "print(data.shape[0])\n",
    "print((sum(test_labels) + sum(train_labels))/ data.shape[0])\n",
    "print(sum(test_labels) + sum(train_labels))"
   ]
  },
  {
   "cell_type": "code",
   "execution_count": 22,
   "metadata": {
    "collapsed": true
   },
   "outputs": [],
   "source": [
    "# Use random array to randomly add k rows to training set and total - k rows to testing set\n",
    "k = 960\n",
    "np.random.seed(0)\n",
    "\n",
    "rand_arr = np.arange(data.shape[0])\n",
    "np.random.shuffle(rand_arr)\n",
    "\n",
    "train = data[rand_arr[0],:]\n",
    "train_labels = labels[rand_arr[0]]\n",
    "for i in range(1,k):\n",
    "    train = np.vstack((train,data[rand_arr[i],:]))\n",
    "    train_labels = np.append(train_labels,labels[rand_arr[i]])\n",
    "    \n",
    "test = data[rand_arr[k],:]\n",
    "test_labels = labels[rand_arr[k]]\n",
    "for i in range(k+1,data.shape[0]):\n",
    "    test = np.vstack((test,data[rand_arr[i],:]))\n",
    "    test_labels = np.append(test_labels,labels[rand_arr[i]])"
   ]
  },
  {
   "cell_type": "code",
   "execution_count": 23,
   "metadata": {
    "collapsed": true
   },
   "outputs": [],
   "source": [
    "## Change data types to float\n",
    "train = train.astype(float)\n",
    "train_labels = train_labels.astype(int)\n",
    "test = test.astype(float)\n",
    "test_labels = test_labels.astype(int)"
   ]
  },
  {
   "cell_type": "code",
   "execution_count": 38,
   "metadata": {},
   "outputs": [
    {
     "name": "stdout",
     "output_type": "stream",
     "text": [
      "0.5564853556485355\n",
      "0.996875\n",
      "[[  1 104]\n",
      " [  2 132]]\n",
      "sensitivity: 0.9850746268656716\n",
      "specificity: 0.009523809523809525\n",
      "auc: 0.497299\n"
     ]
    }
   ],
   "source": [
    "### SVC\n",
    "from sklearn import svm\n",
    "clf = svm.SVC()\n",
    "clf.fit(train, train_labels)\n",
    "results = clf.predict(test)\n",
    "print(clf.score(test, test_labels))\n",
    "print(clf.score(train, train_labels))\n",
    "cmat = confusion_matrix(test_labels, results)\n",
    "print(cmat)\n",
    "#print(metrics.classification_report(test_labels, results))\n",
    "print('sensitivity:', (cmat[1,1] / (cmat[1,1] + cmat[1,0])))\n",
    "print('specificity:', (cmat[0,0] / (cmat[0,0] + cmat[0,1])))\n",
    "fpr, tpr, thresholds = metrics.roc_curve(test_labels, results)\n",
    "print(\"auc: %f\" % metrics.auc(fpr,tpr))"
   ]
  },
  {
   "cell_type": "code",
   "execution_count": 39,
   "metadata": {},
   "outputs": [
    {
     "data": {
      "image/png": "[encoded data removed]",
      "text/plain": [
       "<matplotlib.figure.Figure at 0x12cf8dba8>"
      ]
     },
     "metadata": {},
     "output_type": "display_data"
    }
   ],
   "source": [
    "## SVC Heat map\n",
    "sns.set(font_scale=1.5)\n",
    "sns.set_style(style='white')\n",
    "cmap = sns.cubehelix_palette(as_cmap=True)\n",
    "ax = sns.heatmap(cmat, cmap=cmap)\n",
    "ax.set(xlabel='Predicted Label', ylabel='Actual Label')\n",
    "ax.set_title('SVC Heatmap')\n",
    "plt.xticks(rotation=25)\n",
    "plt.tight_layout()\n",
    "plt.savefig('CM.png')"
   ]
  },
  {
   "cell_type": "code",
   "execution_count": 7,
   "metadata": {},
   "outputs": [
    {
     "name": "stdout",
     "output_type": "stream",
     "text": [
      "0.4393305439330544\n",
      "0.459375\n",
      "[[105   0]\n",
      " [134   0]]\n",
      "sensitivity: 0.0\n",
      "specificity: 1.0\n",
      "auc: 0.500000\n"
     ]
    }
   ],
   "source": [
    "### LinearSVC\n",
    "from sklearn import svm\n",
    "clf = svm.LinearSVC()\n",
    "clf.fit(train, train_labels)\n",
    "results = clf.predict(test)\n",
    "print(clf.score(test, test_labels))\n",
    "print(clf.score(train, train_labels))\n",
    "cmat = confusion_matrix(test_labels, results)\n",
    "print(cmat)\n",
    "print('sensitivity:', (cmat[1,1] / (cmat[1,1] + cmat[1,0])))\n",
    "print('specificity:', (cmat[0,0] / (cmat[0,0] + cmat[0,1])))\n",
    "fpr, tpr, thresholds = metrics.roc_curve(test_labels, results)\n",
    "print(\"auc: %f\" % metrics.auc(fpr,tpr))"
   ]
  },
  {
   "cell_type": "code",
   "execution_count": 8,
   "metadata": {},
   "outputs": [],
   "source": [
    "# ## MULTICLASS NAIVE BAYES\n",
    "# from sklearn.naive_bayes import GaussianNB\n",
    "# from sklearn.multiclass import OneVsRestClassifier\n",
    "\n",
    "# print(train_labels.shape)\n",
    "\n",
    "# clf = OneVsRestClassifier(GaussianNB())\n",
    "# clf.fit(train, train_labels)\n",
    "# results = clf.predict(test)\n",
    "# # all_labels = MultiLabelBinarizer().inverse_transform(predicted)\n",
    "# print(results)\n",
    "\n",
    "# print(clf.score(test, test_labels))\n",
    "# print(clf.score(train, train_labels))\n",
    "# cmat = confusion_matrix(test_labels, results)\n",
    "# print(cmat)\n",
    "# print('sensitivity:', (cmat[1,1] / (cmat[1,1] + cmat[1,0])))\n",
    "# print('specificity:', (cmat[0,0] / (cmat[0,0] + cmat[0,1])))\n",
    "# # fpr, tpr, thresholds = metrics.roc_curve(test_labels, results)\n",
    "# # print(\"auc: %f\" % metrics.auc(fpr,tpr))"
   ]
  },
  {
   "cell_type": "code",
   "execution_count": 40,
   "metadata": {},
   "outputs": [
    {
     "name": "stdout",
     "output_type": "stream",
     "text": [
      "0.5564853556485355\n",
      "0.5489583333333333\n",
      "[[38 67]\n",
      " [39 95]]\n",
      "sensitivity: 0.7089552238805971\n",
      "specificity: 0.3619047619047619\n",
      "auc: 0.535430\n"
     ]
    }
   ],
   "source": [
    "## Naive Bayes\n",
    "from sklearn.naive_bayes import GaussianNB\n",
    "\n",
    "clf = GaussianNB()\n",
    "clf.fit(train, train_labels)\n",
    "results = clf.predict(test)\n",
    "print(clf.score(test, test_labels))\n",
    "print(clf.score(train, train_labels))\n",
    "cmat = confusion_matrix(test_labels, results)\n",
    "print(cmat)\n",
    "print('sensitivity:', (cmat[1,1] / (cmat[1,1] + cmat[1,0])))\n",
    "print('specificity:', (cmat[0,0] / (cmat[0,0] + cmat[0,1])))\n",
    "fpr, tpr, thresholds = metrics.roc_curve(test_labels, results)\n",
    "print(\"auc: %f\" % metrics.auc(fpr,tpr))"
   ]
  },
  {
   "cell_type": "code",
   "execution_count": 41,
   "metadata": {},
   "outputs": [
    {
     "data": {
      "image/png": "[encoded data removed]",
      "text/plain": [
       "<matplotlib.figure.Figure at 0x1254743c8>"
      ]
     },
     "metadata": {},
     "output_type": "display_data"
    }
   ],
   "source": [
    "## NB Heat map\n",
    "sns.set(font_scale=1.5)\n",
    "sns.set_style(style='white')\n",
    "cmap = sns.cubehelix_palette(as_cmap=True)\n",
    "ax = sns.heatmap(cmat, cmap=cmap)\n",
    "ax.set(xlabel='Predicted Label', ylabel='Actual Label')\n",
    "ax.set_title('Naive Bayes Heatmap')\n",
    "plt.xticks(rotation=25)\n",
    "plt.tight_layout()\n",
    "plt.savefig('CM.png')"
   ]
  },
  {
   "cell_type": "code",
   "execution_count": null,
   "metadata": {},
   "outputs": [],
   "source": [
    "## Logistic Regression\n",
    "clf = linear_model.LogisticRegression()\n",
    "clf.fit(train, train_labels)\n",
    "results = clf.predict(test)\n",
    "print(clf.score(test, test_labels))\n",
    "print(clf.score(train, train_labels))\n",
    "cmat = confusion_matrix(test_labels, results)\n",
    "print(cmat)\n",
    "print('sensitivity:', (cmat[1,1] / (cmat[1,1] + cmat[1,0])))\n",
    "print('specificity:', (cmat[0,0] / (cmat[0,0] + cmat[0,1])))\n",
    "fpr, tpr, thresholds = metrics.roc_curve(test_labels, results)\n",
    "print(\"auc: %f\" % metrics.auc(fpr,tpr))"
   ]
  },
  {
   "cell_type": "code",
   "execution_count": 12,
   "metadata": {},
   "outputs": [
    {
     "name": "stdout",
     "output_type": "stream",
     "text": [
      "0.5146443514644351\n",
      "0.98125\n",
      "[[55 50]\n",
      " [66 68]]\n",
      "sensitivity: 0.5074626865671642\n",
      "specificity: 0.5238095238095238\n",
      "auc: 0.515636\n"
     ]
    }
   ],
   "source": [
    "## Random Forest\n",
    "clf = ensemble.RandomForestClassifier()\n",
    "clf.fit(train, train_labels)\n",
    "results = clf.predict(test)\n",
    "print(clf.score(test, test_labels))\n",
    "print(clf.score(train, train_labels))\n",
    "cmat = confusion_matrix(test_labels, results)\n",
    "print(cmat)\n",
    "print('sensitivity:', (cmat[1,1] / (cmat[1,1] + cmat[1,0])))\n",
    "print('specificity:', (cmat[0,0] / (cmat[0,0] + cmat[0,1])))\n",
    "fpr, tpr, thresholds = metrics.roc_curve(test_labels, results)\n",
    "print(\"auc: %f\" % metrics.auc(fpr,tpr))"
   ]
  },
  {
   "cell_type": "code",
   "execution_count": 11,
   "metadata": {},
   "outputs": [
    {
     "name": "stdout",
     "output_type": "stream",
     "text": [
      "134\n",
      "239\n",
      "0.5606694560669456\n"
     ]
    }
   ],
   "source": [
    "## Majority Classifier\n",
    "print(sum(test_labels))\n",
    "print(len(test_labels))\n",
    "print(sum(test_labels) / len(test_labels))"
   ]
  },
  {
   "cell_type": "code",
   "execution_count": null,
   "metadata": {},
   "outputs": [],
   "source": [
    "cm = confusion_matrix(test_labels, results)\n",
    "print(cm)"
   ]
  },
  {
   "cell_type": "code",
   "execution_count": null,
   "metadata": {
    "collapsed": true
   },
   "outputs": [],
   "source": []
  },
  {
   "cell_type": "code",
   "execution_count": 10,
   "metadata": {},
   "outputs": [
    {
     "data": {
      "image/png": "[encoded data removed]",
      "text/plain": [
       "<matplotlib.figure.Figure at 0x1242181d0>"
      ]
     },
     "metadata": {},
     "output_type": "display_data"
    }
   ],
   "source": [
    "roc_auc = metrics.auc(fpr, tpr)\n",
    "plt.figure()\n",
    "lw=2\n",
    "plt.plot(fpr, tpr, color = 'darkorange', lw=lw, \n",
    "         label = 'ROC curve (area = %0.2f)' % roc_auc)\n",
    "plt.plot([0,1],[0,1], color = 'navy')\n",
    "plt.xlabel('False Positive Rate')\n",
    "plt.ylabel('True Positive Rate')\n",
    "plt.title('ROC Curve with Naive Bayes Classifier Results')\n",
    "plt.legend(loc = 'lower right')\n",
    "plt.show()"
   ]
  },
  {
   "cell_type": "code",
   "execution_count": null,
   "metadata": {
    "collapsed": true
   },
   "outputs": [],
   "source": []
  }
 ],
 "metadata": {
  "anaconda-cloud": {},
  "kernelspec": {
   "display_name": "Python [Root]",
   "language": "python",
   "name": "Python [Root]"
  },
  "language_info": {
   "codemirror_mode": {
    "name": "ipython",
    "version": 3
   },
   "file_extension": ".py",
   "mimetype": "text/x-python",
   "name": "python",
   "nbconvert_exporter": "python",
   "pygments_lexer": "ipython3",
   "version": "3.5.2"
  }
 },
 "nbformat": 4,
 "nbformat_minor": 1
}
