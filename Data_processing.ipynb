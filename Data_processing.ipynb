{
 "cells": [
  {
   "cell_type": "code",
   "execution_count": 1,
   "metadata": {
    "collapsed": true,
    "deletable": true,
    "editable": true
   },
   "outputs": [],
   "source": [
    "import  datalab.storage as storage\n",
    "import pandas as pd\n",
    "from io import BytesIO\n",
    "import numpy as np"
   ]
  },
  {
   "cell_type": "code",
   "execution_count": null,
   "metadata": {
    "collapsed": false,
    "deletable": true,
    "editable": true
   },
   "outputs": [],
   "source": [
    "for i in range(1, 4):\n",
    "  for j in range(1, 5):\n",
    "    pre = \"Base\" +str(i)+str(j)\n",
    "    bucket = storage.Bucket('bmi260-dr')\n",
    "    data = bucket.item('blood_info_{0}.csv'.format(pre))\n",
    "    uri = data.uri\n",
    "    %gcs read --object $uri --variable data\n",
    "    img_data = pd.read_csv(BytesIO(data))\n",
    "    label_data = bucket.item('{0}/Annotation_{1}.csv'.format(pre, pre))\n",
    "    uri = label_data.uri\n",
    "    %gcs read --object $uri --variable data2\n",
    "    label_df = pd.read_csv(BytesIO(data2))\n",
    "    print(list(label_df.columns.values))\n",
    "    label_df = label_df[['Image name', 'Retinopathy grade']]\n",
    "    merged = label_df.merge(img_data, left_on='Image name', right_on='IMG', how='inner')\n",
    "    dataset = [i for k in range(merged.shape[0])]\n",
    "    merged['dataset'] = dataset\n",
    "    bucket.item('blood_info_{}_with_label.csv'.format(pre)).write_to(merged.to_csv(),'text/csv')"
   ]
  },
  {
   "cell_type": "code",
   "execution_count": null,
   "metadata": {
    "collapsed": true,
    "deletable": true,
    "editable": true
   },
   "outputs": [],
   "source": []
  }
 ],
 "metadata": {
  "kernelspec": {
   "display_name": "Python 2",
   "language": "python",
   "name": "python2"
  },
  "language_info": {
   "codemirror_mode": {
    "name": "ipython",
    "version": 2
   },
   "file_extension": ".py",
   "mimetype": "text/x-python",
   "name": "python",
   "nbconvert_exporter": "python",
   "pygments_lexer": "ipython2",
   "version": "2.7.15"
  }
 },
 "nbformat": 4,
 "nbformat_minor": 2
}
